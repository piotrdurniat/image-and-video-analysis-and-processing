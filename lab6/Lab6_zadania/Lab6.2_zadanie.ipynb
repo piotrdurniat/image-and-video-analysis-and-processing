{
 "cells": [
  {
   "cell_type": "markdown",
   "id": "fa8bd2ff",
   "metadata": {},
   "source": [
    "### Laboratorium 6 - część projektowa\n",
    "\n",
    "W tej części zajmiesz się wykorzystaniem punktów kluczowych do łączenia obrazów (_image stitching_). Celem zadania jest przetestowanie możliwości detekcji i parowania punktów kluczowych w celu łączenia obrazów. Istotne jest, by samodzielnie przejść całą ścieżkę: od detekcji punktów kluczowych i wyznaczenia ich desktryptorów, przez ich parowanie i znalezienie transformacji, po finalne połączenie obrazów. Rozwiązania oparte o gotowce w stylu black-box nie będą oceniane.\n",
    "\n",
    "Wykonaj serię zdjęć dowolnej wybranej przez siebie **statycznej** sceny. Może to być niemal dowolny widok o dowolnej skali: panorama miasta, swojego pokoju, powierzchni biurka - ważne, by pozyskane obrazy umożliwiały (1) użycie algorytmu SIFT, oraz (2) wykonanie transformacji geometrycznej.\n",
    "\n",
    "Wykonaj 4-5 zdjęć, spośród których pierwsze (nazwij je `base`) niech przedstawia \\\"główny\\\" widok sceny, a pozostałe (o nazwie `offset_{index}`) niech cechują się coraz większym przesunięciem kamery względem `base`. Proponowane różnice:\n",
    "* nieznaczne przesunięcie (o ~połowę szerokości klatki),\n",
    "* większe przesunięcie (o 3/4 szerokości lub więcej),\n",
    "* przesunięcie z rotacją w osi kamery,\n",
    "* (jeśli to możliwe) przybliżenie/oddalenie kamery.\n",
    "\n",
    "Wykorzystaj algorytmy opracowane do realizacji zadania 3 (zwłaszcza 3b) w celu przekształcania obrazów `offset_x` do geometrii `base`. Upewnij się, że wymiary wynikowych obrazów są wystarczające do zmieszczenia obu składowych.\n",
    "\n",
    "*Czy każdą parę `offset_i`-`base` udało się połączyć? Jeśli dla którejś pary metoda zawiodła, to dlaczego?*  \n",
    "*Jaka była jakość dopasowania? Na jakiej podstawie ją określasz?*"
   ]
  },
  {
   "cell_type": "code",
   "execution_count": 1,
   "id": "981c6202",
   "metadata": {},
   "outputs": [],
   "source": [
    "import cv2\n",
    "import numpy as np\n",
    "import matplotlib.pyplot as plt"
   ]
  },
  {
   "cell_type": "code",
   "execution_count": null,
   "id": "72f4a807",
   "metadata": {},
   "outputs": [],
   "source": []
  }
 ],
 "metadata": {
  "kernelspec": {
   "display_name": "Python 3 (ipykernel)",
   "language": "python",
   "name": "python3"
  },
  "language_info": {
   "codemirror_mode": {
    "name": "ipython",
    "version": 3
   },
   "file_extension": ".py",
   "mimetype": "text/x-python",
   "name": "python",
   "nbconvert_exporter": "python",
   "pygments_lexer": "ipython3",
   "version": "3.9.5"
  }
 },
 "nbformat": 4,
 "nbformat_minor": 5
}
